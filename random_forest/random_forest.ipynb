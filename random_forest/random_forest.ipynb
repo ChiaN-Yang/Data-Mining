{
  "nbformat": 4,
  "nbformat_minor": 0,
  "metadata": {
    "colab": {
      "provenance": []
    },
    "kernelspec": {
      "name": "python3",
      "display_name": "Python 3"
    },
    "language_info": {
      "name": "python"
    },
    "gpuClass": "standard"
  },
  "cells": [
    {
      "cell_type": "code",
      "source": [
        "# Load libraries\n",
        "import pandas as pd\n",
        "from sklearn.ensemble import RandomForestClassifier\n",
        "from sklearn.model_selection import train_test_split # Import train_test_split function\n",
        "from sklearn import metrics #Import scikit-learn metrics module for accuracy calculation"
      ],
      "metadata": {
        "id": "0AYe_txq8OdA"
      },
      "execution_count": null,
      "outputs": []
    },
    {
      "cell_type": "code",
      "source": [
        "# load dataset\n",
        "pima = pd.read_csv(\"Label_with_data.csv\")\n",
        "pima.head()"
      ],
      "metadata": {
        "id": "nvfNOXj071Ty",
        "colab": {
          "base_uri": "https://localhost:8080/",
          "height": 337
        },
        "outputId": "57735cad-c569-4b61-c20a-997ddcab5a00"
      },
      "execution_count": null,
      "outputs": [
        {
          "output_type": "execute_result",
          "data": {
            "text/plain": [
              "   TARGET_FID                                       Img    Species  target_x  \\\n",
              "0           0  000b43a3-d331-47ad-99a4-4c0fa9b48298.jpg  asparagus         0   \n",
              "1           1  00172189-3156-48d7-bb1e-f0a922bc54b8.jpg  asparagus         0   \n",
              "2           2  002aec7b-648e-4d1f-9463-a43c0304e774.jpg  asparagus         0   \n",
              "3           3  007cd63a-333c-47f2-b2e2-193f76f7c684.jpg  asparagus         0   \n",
              "4           4  00a326ba-7e9a-4bc1-8684-4bf404bfd6bb.jpg  asparagus         0   \n",
              "\n",
              "   target_y COUNTYNAME TOWNNAME      town_x     town_y  \n",
              "0         0        彰化縣      二林鎮  120.404221  23.916302  \n",
              "1         0        彰化縣      二林鎮  120.404221  23.916302  \n",
              "2         0        嘉義縣      新港鄉  120.348282  23.545908  \n",
              "3         0        雲林縣      土庫鎮  120.364716  23.691204  \n",
              "4         0        雲林縣      斗南鎮  120.482628  23.670769  "
            ],
            "text/html": [
              "\n",
              "  <div id=\"df-bb916d2c-18e0-41c1-a553-fe91a6e92880\">\n",
              "    <div class=\"colab-df-container\">\n",
              "      <div>\n",
              "<style scoped>\n",
              "    .dataframe tbody tr th:only-of-type {\n",
              "        vertical-align: middle;\n",
              "    }\n",
              "\n",
              "    .dataframe tbody tr th {\n",
              "        vertical-align: top;\n",
              "    }\n",
              "\n",
              "    .dataframe thead th {\n",
              "        text-align: right;\n",
              "    }\n",
              "</style>\n",
              "<table border=\"1\" class=\"dataframe\">\n",
              "  <thead>\n",
              "    <tr style=\"text-align: right;\">\n",
              "      <th></th>\n",
              "      <th>TARGET_FID</th>\n",
              "      <th>Img</th>\n",
              "      <th>Species</th>\n",
              "      <th>target_x</th>\n",
              "      <th>target_y</th>\n",
              "      <th>COUNTYNAME</th>\n",
              "      <th>TOWNNAME</th>\n",
              "      <th>town_x</th>\n",
              "      <th>town_y</th>\n",
              "    </tr>\n",
              "  </thead>\n",
              "  <tbody>\n",
              "    <tr>\n",
              "      <th>0</th>\n",
              "      <td>0</td>\n",
              "      <td>000b43a3-d331-47ad-99a4-4c0fa9b48298.jpg</td>\n",
              "      <td>asparagus</td>\n",
              "      <td>0</td>\n",
              "      <td>0</td>\n",
              "      <td>彰化縣</td>\n",
              "      <td>二林鎮</td>\n",
              "      <td>120.404221</td>\n",
              "      <td>23.916302</td>\n",
              "    </tr>\n",
              "    <tr>\n",
              "      <th>1</th>\n",
              "      <td>1</td>\n",
              "      <td>00172189-3156-48d7-bb1e-f0a922bc54b8.jpg</td>\n",
              "      <td>asparagus</td>\n",
              "      <td>0</td>\n",
              "      <td>0</td>\n",
              "      <td>彰化縣</td>\n",
              "      <td>二林鎮</td>\n",
              "      <td>120.404221</td>\n",
              "      <td>23.916302</td>\n",
              "    </tr>\n",
              "    <tr>\n",
              "      <th>2</th>\n",
              "      <td>2</td>\n",
              "      <td>002aec7b-648e-4d1f-9463-a43c0304e774.jpg</td>\n",
              "      <td>asparagus</td>\n",
              "      <td>0</td>\n",
              "      <td>0</td>\n",
              "      <td>嘉義縣</td>\n",
              "      <td>新港鄉</td>\n",
              "      <td>120.348282</td>\n",
              "      <td>23.545908</td>\n",
              "    </tr>\n",
              "    <tr>\n",
              "      <th>3</th>\n",
              "      <td>3</td>\n",
              "      <td>007cd63a-333c-47f2-b2e2-193f76f7c684.jpg</td>\n",
              "      <td>asparagus</td>\n",
              "      <td>0</td>\n",
              "      <td>0</td>\n",
              "      <td>雲林縣</td>\n",
              "      <td>土庫鎮</td>\n",
              "      <td>120.364716</td>\n",
              "      <td>23.691204</td>\n",
              "    </tr>\n",
              "    <tr>\n",
              "      <th>4</th>\n",
              "      <td>4</td>\n",
              "      <td>00a326ba-7e9a-4bc1-8684-4bf404bfd6bb.jpg</td>\n",
              "      <td>asparagus</td>\n",
              "      <td>0</td>\n",
              "      <td>0</td>\n",
              "      <td>雲林縣</td>\n",
              "      <td>斗南鎮</td>\n",
              "      <td>120.482628</td>\n",
              "      <td>23.670769</td>\n",
              "    </tr>\n",
              "  </tbody>\n",
              "</table>\n",
              "</div>\n",
              "      <button class=\"colab-df-convert\" onclick=\"convertToInteractive('df-bb916d2c-18e0-41c1-a553-fe91a6e92880')\"\n",
              "              title=\"Convert this dataframe to an interactive table.\"\n",
              "              style=\"display:none;\">\n",
              "        \n",
              "  <svg xmlns=\"http://www.w3.org/2000/svg\" height=\"24px\"viewBox=\"0 0 24 24\"\n",
              "       width=\"24px\">\n",
              "    <path d=\"M0 0h24v24H0V0z\" fill=\"none\"/>\n",
              "    <path d=\"M18.56 5.44l.94 2.06.94-2.06 2.06-.94-2.06-.94-.94-2.06-.94 2.06-2.06.94zm-11 1L8.5 8.5l.94-2.06 2.06-.94-2.06-.94L8.5 2.5l-.94 2.06-2.06.94zm10 10l.94 2.06.94-2.06 2.06-.94-2.06-.94-.94-2.06-.94 2.06-2.06.94z\"/><path d=\"M17.41 7.96l-1.37-1.37c-.4-.4-.92-.59-1.43-.59-.52 0-1.04.2-1.43.59L10.3 9.45l-7.72 7.72c-.78.78-.78 2.05 0 2.83L4 21.41c.39.39.9.59 1.41.59.51 0 1.02-.2 1.41-.59l7.78-7.78 2.81-2.81c.8-.78.8-2.07 0-2.86zM5.41 20L4 18.59l7.72-7.72 1.47 1.35L5.41 20z\"/>\n",
              "  </svg>\n",
              "      </button>\n",
              "      \n",
              "  <style>\n",
              "    .colab-df-container {\n",
              "      display:flex;\n",
              "      flex-wrap:wrap;\n",
              "      gap: 12px;\n",
              "    }\n",
              "\n",
              "    .colab-df-convert {\n",
              "      background-color: #E8F0FE;\n",
              "      border: none;\n",
              "      border-radius: 50%;\n",
              "      cursor: pointer;\n",
              "      display: none;\n",
              "      fill: #1967D2;\n",
              "      height: 32px;\n",
              "      padding: 0 0 0 0;\n",
              "      width: 32px;\n",
              "    }\n",
              "\n",
              "    .colab-df-convert:hover {\n",
              "      background-color: #E2EBFA;\n",
              "      box-shadow: 0px 1px 2px rgba(60, 64, 67, 0.3), 0px 1px 3px 1px rgba(60, 64, 67, 0.15);\n",
              "      fill: #174EA6;\n",
              "    }\n",
              "\n",
              "    [theme=dark] .colab-df-convert {\n",
              "      background-color: #3B4455;\n",
              "      fill: #D2E3FC;\n",
              "    }\n",
              "\n",
              "    [theme=dark] .colab-df-convert:hover {\n",
              "      background-color: #434B5C;\n",
              "      box-shadow: 0px 1px 3px 1px rgba(0, 0, 0, 0.15);\n",
              "      filter: drop-shadow(0px 1px 2px rgba(0, 0, 0, 0.3));\n",
              "      fill: #FFFFFF;\n",
              "    }\n",
              "  </style>\n",
              "\n",
              "      <script>\n",
              "        const buttonEl =\n",
              "          document.querySelector('#df-bb916d2c-18e0-41c1-a553-fe91a6e92880 button.colab-df-convert');\n",
              "        buttonEl.style.display =\n",
              "          google.colab.kernel.accessAllowed ? 'block' : 'none';\n",
              "\n",
              "        async function convertToInteractive(key) {\n",
              "          const element = document.querySelector('#df-bb916d2c-18e0-41c1-a553-fe91a6e92880');\n",
              "          const dataTable =\n",
              "            await google.colab.kernel.invokeFunction('convertToInteractive',\n",
              "                                                     [key], {});\n",
              "          if (!dataTable) return;\n",
              "\n",
              "          const docLinkHtml = 'Like what you see? Visit the ' +\n",
              "            '<a target=\"_blank\" href=https://colab.research.google.com/notebooks/data_table.ipynb>data table notebook</a>'\n",
              "            + ' to learn more about interactive tables.';\n",
              "          element.innerHTML = '';\n",
              "          dataTable['output_type'] = 'display_data';\n",
              "          await google.colab.output.renderOutput(dataTable, element);\n",
              "          const docLink = document.createElement('div');\n",
              "          docLink.innerHTML = docLinkHtml;\n",
              "          element.appendChild(docLink);\n",
              "        }\n",
              "      </script>\n",
              "    </div>\n",
              "  </div>\n",
              "  "
            ]
          },
          "metadata": {},
          "execution_count": 2
        }
      ]
    },
    {
      "cell_type": "code",
      "source": [
        "# split dataset in features and target variable\n",
        "feature_cols = ['town_x', 'town_y']\n",
        "X = pima[feature_cols] # Features\n",
        "y = pima['Species'] # Target variable"
      ],
      "metadata": {
        "id": "lXRw1miy756F"
      },
      "execution_count": null,
      "outputs": []
    },
    {
      "cell_type": "code",
      "source": [
        "# Split dataset into training set and test set\n",
        "X_train, X_test, y_train, y_test = train_test_split(X, y, test_size=0.3, random_state=2) # 70% training and 30% test"
      ],
      "metadata": {
        "id": "apWHYS2K774f"
      },
      "execution_count": null,
      "outputs": []
    },
    {
      "cell_type": "code",
      "source": [
        "# Create Decision Tree classifer object\n",
        "clf = RandomForestClassifier(criterion=\"entropy\", max_depth=7)\n",
        "\n",
        "# Train Decision Tree Classifer\n",
        "clf = clf.fit(X_train,y_train)\n",
        "\n",
        "# Predict the response for test dataset\n",
        "y_pred = clf.predict(X_test)"
      ],
      "metadata": {
        "id": "yaC8aI7J7_e8"
      },
      "execution_count": null,
      "outputs": []
    },
    {
      "cell_type": "code",
      "source": [
        "# Model Accuracy, how often is the classifier correct?\n",
        "print(\"Accuracy:\",metrics.accuracy_score(y_test, y_pred))"
      ],
      "metadata": {
        "id": "6fvGAyHe8CDz",
        "colab": {
          "base_uri": "https://localhost:8080/"
        },
        "outputId": "89710dc6-55b3-4457-f5dd-51633ec9d9d6"
      },
      "execution_count": null,
      "outputs": [
        {
          "output_type": "stream",
          "name": "stdout",
          "text": [
            "Accuracy: 0.4121020294172407\n"
          ]
        }
      ]
    },
    {
      "cell_type": "code",
      "source": [
        "prob = clf.predict_proba(X_test[1:2])\n",
        "print(prob[0])"
      ],
      "metadata": {
        "colab": {
          "base_uri": "https://localhost:8080/"
        },
        "id": "hMJFEuVR1Wbd",
        "outputId": "785cea36-f335-46a9-f77b-0195e63a2ae9"
      },
      "execution_count": null,
      "outputs": [
        {
          "output_type": "stream",
          "name": "stdout",
          "text": [
            "[9.69146370e-03 3.38271375e-03 2.75616105e-02 8.86909495e-05\n",
            " 0.00000000e+00 1.41808632e-02 8.06299031e-04 1.76582336e-03\n",
            " 0.00000000e+00 2.27180003e-01 1.99640275e-03 3.96463556e-03\n",
            " 6.42573451e-02 5.84005188e-05 3.41203240e-03 7.59314809e-03\n",
            " 2.43449068e-02 1.81053655e-02 0.00000000e+00 5.28871372e-05\n",
            " 7.19363935e-03 2.40679255e-03 4.17777320e-05 1.63857069e-01\n",
            " 3.43477033e-01 9.04318834e-03 2.08966122e-02 2.57062803e-02\n",
            " 0.00000000e+00 7.32897032e-03 1.10381262e-02 0.00000000e+00\n",
            " 5.67919349e-04]\n"
          ]
        }
      ]
    },
    {
      "cell_type": "code",
      "source": [
        "import matplotlib.pyplot as plt\n",
        "plt.hist(prob[0], bins=50, color='lightblue', label=\"Prob\")\n",
        "plt.legend()\n",
        "plt.show()"
      ],
      "metadata": {
        "colab": {
          "base_uri": "https://localhost:8080/",
          "height": 265
        },
        "id": "VfINBeyD8Qk3",
        "outputId": "91790d1e-2cac-4c30-8072-fe3d2af08d2c"
      },
      "execution_count": null,
      "outputs": [
        {
          "output_type": "display_data",
          "data": {
            "text/plain": [
              "<Figure size 432x288 with 1 Axes>"
            ],
            "image/png": "[encoded data removed]"
          },
          "metadata": {
            "needs_background": "light"
          }
        }
      ]
    },
    {
      "cell_type": "markdown",
      "source": [
        "## Top5"
      ],
      "metadata": {
        "id": "nhBDV-62_3XF"
      }
    },
    {
      "cell_type": "code",
      "source": [
        "print(clf.classes_)"
      ],
      "metadata": {
        "colab": {
          "base_uri": "https://localhost:8080/"
        },
        "id": "QLzf02vn_5bE",
        "outputId": "9f695560-d177-4bc9-8715-d6b4c51892d8"
      },
      "execution_count": null,
      "outputs": [
        {
          "output_type": "stream",
          "name": "stdout",
          "text": [
            "['asparagus' 'bambooshoots' 'betel' 'broccoli' 'cauliflower'\n",
            " 'chinesecabbage' 'chinesechives' 'custardapple' 'grape' 'greenhouse'\n",
            " 'greenonion' 'kale' 'lemon' 'lettuce' 'litchi' 'longan' 'loofah' 'mango'\n",
            " 'onion' 'others' 'papaya' 'passionfruit' 'pear' 'pennisetum' 'redbeans'\n",
            " 'roseapple' 'sesbania' 'soybeans' 'sunhemp' 'sweetpotato' 'taro' 'tea'\n",
            " 'waterbamboo']\n"
          ]
        }
      ]
    },
    {
      "cell_type": "markdown",
      "source": [
        "## Visualize"
      ],
      "metadata": {
        "id": "GuS8JBBhalgW"
      }
    },
    {
      "cell_type": "code",
      "source": [
        "from sklearn.tree import export_graphviz\n",
        "import pydotplus\n",
        "\n",
        "def tree_graph_to_png(tree, feature_names, png_file_to_save):\n",
        "    tree_str = export_graphviz(tree, feature_names=feature_names,\n",
        "                   filled=True, out_file=None, class_names=clf.classes_)\n",
        "    graph = pydotplus.graph_from_dot_data(tree_str)  \n",
        "    graph.write_png(png_file_to_save)\n",
        "\n",
        "\n",
        "estimator = clf.estimators_[5]\n",
        "tree_graph_to_png(estimator, feature_names=['town_x', 'town_y'], png_file_to_save='dt.png')"
      ],
      "metadata": {
        "id": "hMRNyPYrU1VA"
      },
      "execution_count": null,
      "outputs": []
    }
  ]
}